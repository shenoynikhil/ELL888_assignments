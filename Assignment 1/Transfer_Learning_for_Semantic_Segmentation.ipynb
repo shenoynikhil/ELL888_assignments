{
 "cells": [
  {
   "cell_type": "markdown",
   "metadata": {},
   "source": [
    "#### import relevant libraries"
   ]
  },
  {
   "cell_type": "code",
   "execution_count": 0,
   "metadata": {
    "colab": {},
    "colab_type": "code",
    "id": "t-MUPF2rBCYo"
   },
   "outputs": [],
   "source": [
    "import torch\n",
    "import torchvision\n",
    "from torchvision import datasets, models, transforms\n",
    "import matplotlib.pyplot as plt\n",
    "import numpy as np\n",
    "import os\n",
    "from torch.utils.data.sampler import SubsetRandomSampler\n",
    "from PIL import Image\n",
    "import pandas as pd\n",
    "import random"
   ]
  },
  {
   "cell_type": "code",
   "execution_count": 0,
   "metadata": {
    "colab": {
     "base_uri": "https://localhost:8080/",
     "height": 34
    },
    "colab_type": "code",
    "id": "yadyycFLdiiE",
    "outputId": "d043ff70-9166-4779-b091-8017636cecfb"
   },
   "outputs": [
    {
     "name": "stdout",
     "output_type": "stream",
     "text": [
      "/content/drive/My Drive\n"
     ]
    }
   ],
   "source": [
    "%cd /content/drive/'My Drive'/"
   ]
  },
  {
   "cell_type": "code",
   "execution_count": 0,
   "metadata": {
    "colab": {},
    "colab_type": "code",
    "id": "ZH3S57ir1yba"
   },
   "outputs": [],
   "source": [
    "orig_path = './Training'\n",
    "normal_dir = os.path.join(orig_path, 'Normal')\n",
    "damaged_dir = os.path.join(orig_path, 'Damaged')\n",
    "\n",
    "# ids in the normal and damaged dir\n",
    "normal_ids = os.listdir(normal_dir)\n",
    "damaged_ids = os.listdir(damaged_dir)"
   ]
  },
  {
   "cell_type": "markdown",
   "metadata": {},
   "source": [
    "#### We would be performing individual semantic segmentations \n",
    "1. AP Image <br>\n",
    "    a. Vertebra <br>\n",
    "    b. Spinous Process <br>\n",
    "    c. Pedicle <br>\n",
    "2. LAT Image <br>\n",
    "    a. Verebra <br>\n",
    "    b. Spinous Process <br>\n",
    "    c. Disk Height <br>\n",
    "    d. Anterior Vertebral Line <br>\n",
    "    e. Posterior Vertebral Line <br>"
   ]
  },
  {
   "cell_type": "code",
   "execution_count": 0,
   "metadata": {
    "colab": {},
    "colab_type": "code",
    "id": "bTgQH2ThGTZ4"
   },
   "outputs": [],
   "source": [
    "images_AP = []\n",
    "images_LAT = []\n",
    "mask_AP_Vert = []\n",
    "mask_AP_SP = []\n",
    "mask_AP_Ped = []\n",
    "mask_LAT_Vert = []\n",
    "mask_LAT_DH = []\n",
    "mask_LAT_SP = []\n",
    "mask_LAT_AVL = []\n",
    "mask_LAT_PVL = []\n",
    "\n",
    "for id in normal_ids:\n",
    "    AP_image_path = os.path.join(normal_dir, id, 'AP' , 'AP.jpg')\n",
    "    AP_Vert_path = os.path.join(normal_dir, id, 'AP', 'Ap_Vertebra.png')\n",
    "    AP_SP_path = os.path.join(normal_dir, id, 'AP', 'Ap_Spinous_Process.png')\n",
    "    AP_Ped_path = os.path.join(normal_dir, id, 'AP', 'Ap_Pedicle.png')\n",
    "    LAT_image_path = os.path.join(normal_dir, id, 'LAT', 'LAT.jpg')\n",
    "    LAT_Vert_path = os.path.join(normal_dir, id, 'LAT', 'Lat_Vertebra.png')\n",
    "    LAT_SP_path = os.path.join(normal_dir, id, 'LAT', 'Lat_Spinous_Process.png')\n",
    "    LAT_DH_path = os.path.join(normal_dir, id, 'LAT', 'Lat_Disk_Height.png')\n",
    "    LAT_AVL_path = os.path.join(normal_dir, id, 'LAT', 'Lat_Anterior_Vertebral_Line.png')\n",
    "    LAT_PVL_path = os.path.join(normal_dir, id, 'LAT', 'Lat_Posterior_Vertebral_Line.png')\n",
    "    \n",
    "    images_AP.append(AP_image_path)\n",
    "    images_LAT.append(LAT_image_path)\n",
    "    mask_AP_Vert.append(AP_Vert_path)\n",
    "    mask_AP_SP.append(AP_SP_path)\n",
    "    mask_AP_Ped.append(AP_Ped_path)\n",
    "    mask_LAT_Vert.append(LAT_Vert_path)\n",
    "    mask_LAT_DH.append(LAT_DH_path)\n",
    "    mask_LAT_SP.append(LAT_SP_path) \n",
    "    mask_LAT_AVL.append(LAT_AVL_path) \n",
    "    mask_LAT_PVL.append(LAT_PVL_path) \n",
    "\n",
    "for id in damaged_ids:\n",
    "    AP_image_path = os.path.join(damaged_dir, id, 'AP' , 'AP.jpg')\n",
    "    AP_Vert_path = os.path.join(damaged_dir, id, 'AP', 'Ap_Vertebra.png')\n",
    "    AP_SP_path = os.path.join(damaged_dir, id, 'AP', 'Ap_Spinous_Process.png')\n",
    "    AP_Ped_path = os.path.join(damaged_dir, id, 'AP', 'Ap_Pedicle.png')\n",
    "    LAT_image_path = os.path.join(damaged_dir, id, 'LAT', 'LAT.jpg')\n",
    "    LAT_Vert_path = os.path.join(damaged_dir, id, 'LAT', 'Lat_Vertebra.png')\n",
    "    LAT_SP_path = os.path.join(damaged_dir, id, 'LAT', 'Lat_Spinous_Process.png')\n",
    "    LAT_DH_path = os.path.join(damaged_dir, id, 'LAT', 'Lat_Disk_Height.png')\n",
    "    LAT_AVL_path = os.path.join(damaged_dir, id, 'LAT', 'Lat_Anterior_Vertebral_Line.png')\n",
    "    LAT_PVL_path = os.path.join(damaged_dir, id, 'LAT', 'Lat_Posterior_Vertebral_Line.png')\n",
    "  \n",
    "    images_AP.append(AP_image_path)\n",
    "    images_LAT.append(LAT_image_path)\n",
    "    mask_AP_Vert.append(AP_Vert_path)\n",
    "    mask_AP_SP.append(AP_SP_path)\n",
    "    mask_AP_Ped.append(AP_Ped_path)\n",
    "    mask_LAT_Vert.append(LAT_Vert_path)\n",
    "    mask_LAT_DH.append(LAT_DH_path)\n",
    "    mask_LAT_SP.append(LAT_SP_path) \n",
    "    mask_LAT_AVL.append(LAT_AVL_path) \n",
    "    mask_LAT_PVL.append(LAT_PVL_path) \n",
    "\n",
    "# keep mask \n",
    "data = pd.DataFrame({'Images' : images_LAT, 'masks' : mask_LAT_DH})\n",
    "# data_lat = pd.DataFrame({'Images' : images_LAT, 'masks' : mask_LAT_Vert})"
   ]
  },
  {
   "cell_type": "code",
   "execution_count": 0,
   "metadata": {
    "colab": {},
    "colab_type": "code",
    "id": "YevIEg2Fnk9x"
   },
   "outputs": [],
   "source": [
    "# # Missing Masks\n",
    "# ./Training/Damaged/ID (233)/LAT/Lat_Posterior_Vertebral_Line.png\n",
    "# ./Training/Damaged/ID (169)/LAT/Lat_Spinous_Process.png"
   ]
  },
  {
   "cell_type": "code",
   "execution_count": 0,
   "metadata": {
    "colab": {},
    "colab_type": "code",
    "id": "McwWdjvCJguW"
   },
   "outputs": [],
   "source": [
    "validation_split = .2\n",
    "shuffle_dataset = True\n",
    "random_seed = 42"
   ]
  },
  {
   "cell_type": "code",
   "execution_count": 0,
   "metadata": {
    "colab": {},
    "colab_type": "code",
    "id": "8_CgE1BpKYlu"
   },
   "outputs": [],
   "source": [
    "# We would be splitting both data_ap and data_lat in the same way\n",
    "dataset_size = len(data)\n",
    "indices = list(range(dataset_size))\n",
    "split = int(np.floor(validation_split * dataset_size))\n",
    "if shuffle_dataset :\n",
    "    np.random.seed(random_seed)\n",
    "    np.random.shuffle(indices)\n",
    "train_indices, val_indices = indices[split:], indices[:split]"
   ]
  },
  {
   "cell_type": "code",
   "execution_count": 0,
   "metadata": {
    "colab": {},
    "colab_type": "code",
    "id": "FxVVJ4_7tJQy"
   },
   "outputs": [],
   "source": [
    "# get sampler for dataloader\n",
    "train_sampler = SubsetRandomSampler(train_indices)\n",
    "valid_sampler = SubsetRandomSampler(val_indices)"
   ]
  },
  {
   "cell_type": "code",
   "execution_count": 0,
   "metadata": {
    "colab": {},
    "colab_type": "code",
    "id": "ITrFGP2FjOhS"
   },
   "outputs": [],
   "source": [
    "# these sizes would be later used in the train while calculating running losses and accuracy\n",
    "dataset_size = {\n",
    "    'train' : len(train_sampler),\n",
    "    'validation' : len(valid_sampler)\n",
    "} "
   ]
  },
  {
   "cell_type": "markdown",
   "metadata": {},
   "source": [
    "#### Creating a custom dataset for our segmentation and performing some augmentations to increase dataset size"
   ]
  },
  {
   "cell_type": "code",
   "execution_count": 0,
   "metadata": {
    "colab": {},
    "colab_type": "code",
    "id": "AY0x0tY7HEg0"
   },
   "outputs": [],
   "source": [
    "# custom dataset for our dataset\n",
    "class SpineDataset(torch.utils.data.Dataset):\n",
    "    def __init__(self, data, transform=None):\n",
    "        self.transform = transform\n",
    "        self.data = data\n",
    "        \n",
    "    def __len__(self):\n",
    "        return len(self.data)\n",
    "    \n",
    "    def __getitem__(self, index):\n",
    "        img = Image.open(self.data.loc[index]['Images'])\n",
    "        mask = Image.open(self.data.loc[index]['masks'])\n",
    "\n",
    "        # # Some augmentations \n",
    "        RR = RandomRotate(20)\n",
    "        img, mask = RR(img, mask)\n",
    "      \n",
    "        if self.transform is not None:\n",
    "            # Do the common ones\n",
    "            img = self.transform['image'](img)\n",
    "            mask = self.transform['mask'](mask)\n",
    "        \n",
    "        return img, mask"
   ]
  },
  {
   "cell_type": "code",
   "execution_count": 0,
   "metadata": {
    "colab": {},
    "colab_type": "code",
    "id": "ldCcAnRqL__D"
   },
   "outputs": [],
   "source": [
    "class Binarize(object):\n",
    "    \"\"\"Convert ndarrays in sample to Tensors.\"\"\"\n",
    "\n",
    "    def __call__(self, mask):\n",
    "        return (mask > 0.5) * 1 \n",
    "\n",
    "class RandomRotate(object):\n",
    "    def __init__(self, degree):\n",
    "        self.degree = degree\n",
    "\n",
    "    def __call__(self, img, mask):\n",
    "        rotate_degree = random.random() * 2 * self.degree - self.degree\n",
    "        return img.rotate(rotate_degree, Image.BILINEAR), mask.rotate(rotate_degree, Image.NEAREST)"
   ]
  },
  {
   "cell_type": "code",
   "execution_count": 0,
   "metadata": {
    "colab": {},
    "colab_type": "code",
    "id": "L7776g9592o-"
   },
   "outputs": [],
   "source": [
    "size = [224, 224]\n",
    "# size = [299, 299] # for inception_v3 net input sizes to the model should be (299, 299)\n",
    "\n",
    "transform = {\n",
    "    'image' : transforms.Compose(\n",
    "    [\n",
    "     transforms.Grayscale(num_output_channels=3),\n",
    "     transforms.Resize(size),\n",
    "     transforms.ToTensor(),\n",
    "     \n",
    "     ]\n",
    "      ),\n",
    "    'mask' : transforms.Compose(\n",
    "    [\n",
    "     transforms.Grayscale(num_output_channels=1),\n",
    "     transforms.Resize(size),\n",
    "     transforms.ToTensor(),\n",
    "     Binarize()\n",
    "     ]\n",
    "      )\n",
    "}\n",
    "\n",
    "dataset = SpineDataset(data, transform = transform)"
   ]
  },
  {
   "cell_type": "code",
   "execution_count": 0,
   "metadata": {
    "colab": {
     "base_uri": "https://localhost:8080/",
     "height": 269
    },
    "colab_type": "code",
    "id": "LzjIiQAxw7X8",
    "outputId": "91aee22b-c782-4d71-cbb2-c3587901f716"
   },
   "outputs": [
    {
     "data": {
      "image/png": "[encoded data removed]",
      "text/plain": [
       "<Figure size 432x288 with 1 Axes>"
      ]
     },
     "metadata": {
      "tags": []
     },
     "output_type": "display_data"
    }
   ],
   "source": [
    "img = dataset.__getitem__(7)[0].permute(1, 2, 0).numpy()\n",
    "plt.imshow(img)\n",
    "plt.show()"
   ]
  },
  {
   "cell_type": "code",
   "execution_count": 0,
   "metadata": {
    "colab": {},
    "colab_type": "code",
    "id": "A5cTk34csYMQ"
   },
   "outputs": [],
   "source": [
    "mask = (dataset.__getitem__(7)[1].permute(1, 2, 0)).numpy()"
   ]
  },
  {
   "cell_type": "code",
   "execution_count": 0,
   "metadata": {
    "colab": {
     "base_uri": "https://localhost:8080/",
     "height": 286
    },
    "colab_type": "code",
    "id": "n-AruHBdar1H",
    "outputId": "42d8d175-3513-42b9-cc86-e525503ff03d"
   },
   "outputs": [
    {
     "data": {
      "text/plain": [
       "<matplotlib.image.AxesImage at 0x7f45afc35898>"
      ]
     },
     "execution_count": 83,
     "metadata": {
      "tags": []
     },
     "output_type": "execute_result"
    },
    {
     "data": {
      "image/png": "[encoded data removed]",
      "text/plain": [
       "<Figure size 432x288 with 1 Axes>"
      ]
     },
     "metadata": {
      "tags": []
     },
     "output_type": "display_data"
    }
   ],
   "source": [
    "plt.imshow(mask.squeeze(2))"
   ]
  },
  {
   "cell_type": "code",
   "execution_count": 0,
   "metadata": {
    "colab": {},
    "colab_type": "code",
    "id": "8qUICYYFWAhw"
   },
   "outputs": [],
   "source": [
    "batch_size = 8 # Output from the dataloader should be of the form (8, 3, 224, 224) or (8, 3, 299, 299) in the case of inception_v3 net\n",
    "\n",
    "train_loader = torch.utils.data.DataLoader(dataset, batch_size=batch_size, \n",
    "                                           sampler=train_sampler, num_workers=0)\n",
    "validation_loader = torch.utils.data.DataLoader(dataset, batch_size=batch_size,\n",
    "                                                sampler=valid_sampler, num_workers=0)\n",
    "dataloaders = {\n",
    "    'train' : train_loader,\n",
    "    'validation' : validation_loader\n",
    "}"
   ]
  },
  {
   "cell_type": "code",
   "execution_count": 0,
   "metadata": {
    "colab": {},
    "colab_type": "code",
    "id": "Ox5yPElAJK4b"
   },
   "outputs": [],
   "source": [
    "import segmentation_models_pytorch as smp"
   ]
  },
  {
   "cell_type": "code",
   "execution_count": 0,
   "metadata": {
    "colab": {},
    "colab_type": "code",
    "id": "zvqZNyaMckLg"
   },
   "outputs": [],
   "source": [
    "ENCODER = 'resnet34'\n",
    "ENCODER_WEIGHTS = 'imagenet'\n",
    "CLASSES = ['spine']\n",
    "ACTIVATION = 'sigmoid' # could be None for logits or 'softmax2d' for multicalss segmentation\n",
    "DEVICE = 'cuda'\n",
    "\n",
    "model = smp.Unet(\n",
    "    encoder_name=ENCODER,\n",
    "    encoder_weights=ENCODER_WEIGHTS, \n",
    "    classes=len(CLASSES), \n",
    "    activation=ACTIVATION,\n",
    ")"
   ]
  },
  {
   "cell_type": "code",
   "execution_count": 0,
   "metadata": {
    "colab": {},
    "colab_type": "code",
    "id": "shvSvzMsV-V_"
   },
   "outputs": [],
   "source": [
    "loss = smp.utils.losses.DiceLoss()\n",
    "metrics = [\n",
    "    smp.utils.metrics.IoU(threshold=0.5),\n",
    "]\n",
    "\n",
    "optimizer = torch.optim.Adam([ \n",
    "    dict(params=model.parameters(), lr=0.001),\n",
    "])\n"
   ]
  },
  {
   "cell_type": "code",
   "execution_count": 0,
   "metadata": {
    "colab": {},
    "colab_type": "code",
    "id": "K_Bhk8-WYCM4"
   },
   "outputs": [],
   "source": [
    "# create epoch runners \n",
    "# it is a simple loop of iterating over dataloader`s samples\n",
    "train_epoch = smp.utils.train.TrainEpoch(\n",
    "    model, \n",
    "    loss=loss, \n",
    "    metrics=metrics, \n",
    "    optimizer=optimizer,\n",
    "    device=DEVICE,\n",
    "    verbose=True,\n",
    ")\n",
    "\n",
    "valid_epoch = smp.utils.train.ValidEpoch(\n",
    "    model, \n",
    "    loss=loss, \n",
    "    metrics=metrics, \n",
    "    device=DEVICE,\n",
    "    verbose=True,\n",
    ")"
   ]
  },
  {
   "cell_type": "code",
   "execution_count": 0,
   "metadata": {
    "colab": {
     "base_uri": "https://localhost:8080/",
     "height": 1000
    },
    "colab_type": "code",
    "id": "B747-8QjV_De",
    "outputId": "c613d305-41f8-43c0-f998-1a5bd43d1f86"
   },
   "outputs": [
    {
     "name": "stdout",
     "output_type": "stream",
     "text": [
      "\n",
      "Epoch: 0\n",
      "train: 100%|██████████| 68/68 [23:36<00:00, 20.84s/it, dice_loss - 0.3881, iou_score - 0.4606]\n",
      "valid: 100%|██████████| 17/17 [05:51<00:00, 20.69s/it, dice_loss - 0.2667, iou_score - 0.5826]\n",
      "Model saved!\n",
      "\n",
      "Epoch: 1\n",
      "train: 100%|██████████| 68/68 [01:17<00:00,  1.14s/it, dice_loss - 0.2582, iou_score - 0.5923]\n",
      "valid: 100%|██████████| 17/17 [00:18<00:00,  1.11s/it, dice_loss - 0.2368, iou_score - 0.6189]\n",
      "Model saved!\n",
      "\n",
      "Epoch: 2\n",
      "train: 100%|██████████| 68/68 [01:17<00:00,  1.14s/it, dice_loss - 0.2356, iou_score - 0.6216]\n",
      "valid: 100%|██████████| 17/17 [00:18<00:00,  1.10s/it, dice_loss - 0.239, iou_score - 0.6167]\n",
      "\n",
      "Epoch: 3\n",
      "train: 100%|██████████| 68/68 [01:17<00:00,  1.14s/it, dice_loss - 0.2167, iou_score - 0.6464]\n",
      "valid: 100%|██████████| 17/17 [00:18<00:00,  1.10s/it, dice_loss - 0.2281, iou_score - 0.6309]\n",
      "Model saved!\n",
      "\n",
      "Epoch: 4\n",
      "train: 100%|██████████| 68/68 [01:17<00:00,  1.14s/it, dice_loss - 0.2079, iou_score - 0.6579]\n",
      "valid: 100%|██████████| 17/17 [00:18<00:00,  1.10s/it, dice_loss - 0.2263, iou_score - 0.6331]\n",
      "Model saved!\n",
      "\n",
      "Epoch: 5\n",
      "train: 100%|██████████| 68/68 [01:17<00:00,  1.15s/it, dice_loss - 0.2017, iou_score - 0.6667]\n",
      "valid: 100%|██████████| 17/17 [00:18<00:00,  1.10s/it, dice_loss - 0.219, iou_score - 0.6425]\n",
      "Model saved!\n",
      "\n",
      "Epoch: 6\n",
      "train: 100%|██████████| 68/68 [01:17<00:00,  1.14s/it, dice_loss - 0.1907, iou_score - 0.6815]\n",
      "valid: 100%|██████████| 17/17 [00:18<00:00,  1.10s/it, dice_loss - 0.2093, iou_score - 0.6565]\n",
      "Model saved!\n",
      "\n",
      "Epoch: 7\n",
      "train: 100%|██████████| 68/68 [01:17<00:00,  1.15s/it, dice_loss - 0.1854, iou_score - 0.6892]\n",
      "valid: 100%|██████████| 17/17 [00:18<00:00,  1.10s/it, dice_loss - 0.2131, iou_score - 0.651]\n",
      "\n",
      "Epoch: 8\n",
      "train: 100%|██████████| 68/68 [01:17<00:00,  1.15s/it, dice_loss - 0.1803, iou_score - 0.6967]\n",
      "valid: 100%|██████████| 17/17 [00:18<00:00,  1.10s/it, dice_loss - 0.2104, iou_score - 0.655]\n",
      "\n",
      "Epoch: 9\n",
      "train: 100%|██████████| 68/68 [01:17<00:00,  1.14s/it, dice_loss - 0.175, iou_score - 0.7042]\n",
      "valid: 100%|██████████| 17/17 [00:18<00:00,  1.10s/it, dice_loss - 0.2191, iou_score - 0.6438]\n",
      "\n",
      "Epoch: 10\n",
      "train: 100%|██████████| 68/68 [01:17<00:00,  1.14s/it, dice_loss - 0.1761, iou_score - 0.7025]\n",
      "valid: 100%|██████████| 17/17 [00:18<00:00,  1.10s/it, dice_loss - 0.2711, iou_score - 0.5766]\n",
      "\n",
      "Epoch: 11\n",
      "train: 100%|██████████| 68/68 [01:17<00:00,  1.15s/it, dice_loss - 0.1686, iou_score - 0.7134]\n",
      "valid: 100%|██████████| 17/17 [00:18<00:00,  1.10s/it, dice_loss - 0.3608, iou_score - 0.473]\n",
      "\n",
      "Epoch: 12\n",
      "train: 100%|██████████| 68/68 [01:17<00:00,  1.14s/it, dice_loss - 0.162, iou_score - 0.723]\n",
      "valid: 100%|██████████| 17/17 [00:18<00:00,  1.10s/it, dice_loss - 0.2215, iou_score - 0.6396]\n",
      "\n",
      "Epoch: 13\n",
      "train: 100%|██████████| 68/68 [01:17<00:00,  1.14s/it, dice_loss - 0.1615, iou_score - 0.7235]\n",
      "valid: 100%|██████████| 17/17 [00:18<00:00,  1.10s/it, dice_loss - 0.2426, iou_score - 0.6119]\n",
      "\n",
      "Epoch: 14\n",
      "train: 100%|██████████| 68/68 [01:17<00:00,  1.14s/it, dice_loss - 0.1559, iou_score - 0.7321]\n",
      "valid: 100%|██████████| 17/17 [00:18<00:00,  1.11s/it, dice_loss - 0.1974, iou_score - 0.672]\n",
      "Model saved!\n",
      "\n",
      "Epoch: 15\n",
      "train: 100%|██████████| 68/68 [01:17<00:00,  1.14s/it, dice_loss - 0.1549, iou_score - 0.7334]\n",
      "valid: 100%|██████████| 17/17 [00:18<00:00,  1.10s/it, dice_loss - 0.2272, iou_score - 0.6313]\n",
      "\n",
      "Epoch: 16\n",
      "train: 100%|██████████| 68/68 [01:17<00:00,  1.14s/it, dice_loss - 0.1513, iou_score - 0.7388]\n",
      "valid: 100%|██████████| 17/17 [00:18<00:00,  1.10s/it, dice_loss - 0.1993, iou_score - 0.6693]\n",
      "\n",
      "Epoch: 17\n",
      "train: 100%|██████████| 68/68 [01:17<00:00,  1.14s/it, dice_loss - 0.1486, iou_score - 0.7429]\n",
      "valid: 100%|██████████| 17/17 [00:18<00:00,  1.11s/it, dice_loss - 0.2018, iou_score - 0.6655]\n",
      "\n",
      "Epoch: 18\n",
      "train: 100%|██████████| 68/68 [01:18<00:00,  1.15s/it, dice_loss - 0.142, iou_score - 0.7527]\n",
      "valid: 100%|██████████| 17/17 [00:18<00:00,  1.10s/it, dice_loss - 0.2105, iou_score - 0.6542]\n",
      "\n",
      "Epoch: 19\n",
      "train: 100%|██████████| 68/68 [01:17<00:00,  1.14s/it, dice_loss - 0.1399, iou_score - 0.7558]\n",
      "valid: 100%|██████████| 17/17 [00:18<00:00,  1.11s/it, dice_loss - 0.1969, iou_score - 0.6726]\n",
      "Model saved!\n",
      "\n",
      "Epoch: 20\n",
      "train: 100%|██████████| 68/68 [01:18<00:00,  1.15s/it, dice_loss - 0.1355, iou_score - 0.763]\n",
      "valid: 100%|██████████| 17/17 [00:18<00:00,  1.10s/it, dice_loss - 0.1995, iou_score - 0.6691]\n",
      "\n",
      "Epoch: 21\n",
      "train: 100%|██████████| 68/68 [01:17<00:00,  1.15s/it, dice_loss - 0.133, iou_score - 0.7665]\n",
      "valid: 100%|██████████| 17/17 [00:18<00:00,  1.10s/it, dice_loss - 0.2448, iou_score - 0.6091]\n",
      "\n",
      "Epoch: 22\n",
      "train: 100%|██████████| 68/68 [01:17<00:00,  1.14s/it, dice_loss - 0.1437, iou_score - 0.7503]\n",
      "valid: 100%|██████████| 17/17 [00:18<00:00,  1.11s/it, dice_loss - 0.2407, iou_score - 0.6132]\n",
      "\n",
      "Epoch: 23\n",
      "train: 100%|██████████| 68/68 [01:17<00:00,  1.14s/it, dice_loss - 0.1501, iou_score - 0.7404]\n",
      "valid: 100%|██████████| 17/17 [00:18<00:00,  1.10s/it, dice_loss - 0.2153, iou_score - 0.6476]\n",
      "\n",
      "Epoch: 24\n",
      "train: 100%|██████████| 68/68 [01:17<00:00,  1.14s/it, dice_loss - 0.137, iou_score - 0.7604]\n",
      "valid: 100%|██████████| 17/17 [00:18<00:00,  1.10s/it, dice_loss - 0.2059, iou_score - 0.6606]\n",
      "\n",
      "Epoch: 25\n",
      "train: 100%|██████████| 68/68 [01:17<00:00,  1.14s/it, dice_loss - 0.1293, iou_score - 0.7723]\n",
      "valid: 100%|██████████| 17/17 [00:18<00:00,  1.10s/it, dice_loss - 0.1947, iou_score - 0.6762]\n",
      "Model saved!\n",
      "Decrease decoder learning rate to 1e-5!\n",
      "\n",
      "Epoch: 26\n",
      "train: 100%|██████████| 68/68 [01:17<00:00,  1.15s/it, dice_loss - 0.1232, iou_score - 0.7819]\n",
      "valid: 100%|██████████| 17/17 [00:18<00:00,  1.10s/it, dice_loss - 0.199, iou_score - 0.6692]\n",
      "\n",
      "Epoch: 27\n",
      "train: 100%|██████████| 68/68 [01:18<00:00,  1.15s/it, dice_loss - 0.1183, iou_score - 0.7896]\n",
      "valid: 100%|██████████| 17/17 [00:18<00:00,  1.10s/it, dice_loss - 0.1901, iou_score - 0.6819]\n",
      "Model saved!\n",
      "\n",
      "Epoch: 28\n",
      "train: 100%|██████████| 68/68 [01:17<00:00,  1.14s/it, dice_loss - 0.1138, iou_score - 0.7969]\n",
      "valid: 100%|██████████| 17/17 [00:18<00:00,  1.10s/it, dice_loss - 0.1944, iou_score - 0.6756]\n",
      "\n",
      "Epoch: 29\n",
      "train: 100%|██████████| 68/68 [01:17<00:00,  1.14s/it, dice_loss - 0.111, iou_score - 0.8014]\n",
      "valid: 100%|██████████| 17/17 [00:18<00:00,  1.10s/it, dice_loss - 0.207, iou_score - 0.6593]\n",
      "\n",
      "Epoch: 30\n",
      "train: 100%|██████████| 68/68 [01:17<00:00,  1.14s/it, dice_loss - 0.1122, iou_score - 0.7994]\n",
      "valid: 100%|██████████| 17/17 [00:18<00:00,  1.11s/it, dice_loss - 0.1957, iou_score - 0.6741]\n",
      "\n",
      "Epoch: 31\n",
      "train: 100%|██████████| 68/68 [01:17<00:00,  1.14s/it, dice_loss - 0.1099, iou_score - 0.803]\n",
      "valid: 100%|██████████| 17/17 [00:18<00:00,  1.10s/it, dice_loss - 0.1921, iou_score - 0.6787]\n",
      "\n",
      "Epoch: 32\n",
      "train: 100%|██████████| 68/68 [01:17<00:00,  1.14s/it, dice_loss - 0.1052, iou_score - 0.8108]\n",
      "valid: 100%|██████████| 17/17 [00:18<00:00,  1.10s/it, dice_loss - 0.1994, iou_score - 0.6692]\n",
      "\n",
      "Epoch: 33\n",
      "train: 100%|██████████| 68/68 [01:17<00:00,  1.14s/it, dice_loss - 0.1035, iou_score - 0.8137]\n",
      "valid: 100%|██████████| 17/17 [00:18<00:00,  1.10s/it, dice_loss - 0.1949, iou_score - 0.6757]\n",
      "\n",
      "Epoch: 34\n",
      "train: 100%|██████████| 68/68 [01:18<00:00,  1.15s/it, dice_loss - 0.1032, iou_score - 0.814]\n",
      "valid: 100%|██████████| 17/17 [00:18<00:00,  1.10s/it, dice_loss - 0.1995, iou_score - 0.67]\n",
      "\n",
      "Epoch: 35\n",
      "train: 100%|██████████| 68/68 [01:17<00:00,  1.15s/it, dice_loss - 0.1001, iou_score - 0.8191]\n",
      "valid: 100%|██████████| 17/17 [00:18<00:00,  1.10s/it, dice_loss - 0.1932, iou_score - 0.6773]\n",
      "\n",
      "Epoch: 36\n",
      "train: 100%|██████████| 68/68 [01:17<00:00,  1.14s/it, dice_loss - 0.09703, iou_score - 0.8243]\n",
      "valid: 100%|██████████| 17/17 [00:19<00:00,  1.12s/it, dice_loss - 0.2126, iou_score - 0.6519]\n",
      "\n",
      "Epoch: 37\n",
      "train: 100%|██████████| 68/68 [01:17<00:00,  1.14s/it, dice_loss - 0.09662, iou_score - 0.8249]\n",
      "valid: 100%|██████████| 17/17 [00:18<00:00,  1.11s/it, dice_loss - 0.2022, iou_score - 0.6661]\n",
      "\n",
      "Epoch: 38\n",
      "train: 100%|██████████| 68/68 [01:17<00:00,  1.14s/it, dice_loss - 0.09516, iou_score - 0.8274]\n",
      "valid: 100%|██████████| 17/17 [00:18<00:00,  1.10s/it, dice_loss - 0.2105, iou_score - 0.6541]\n",
      "\n",
      "Epoch: 39\n",
      "train: 100%|██████████| 68/68 [01:17<00:00,  1.14s/it, dice_loss - 0.09299, iou_score - 0.8308]\n",
      "valid: 100%|██████████| 17/17 [00:18<00:00,  1.10s/it, dice_loss - 0.2007, iou_score - 0.6667]\n"
     ]
    }
   ],
   "source": [
    "# train model for 40 epochs\n",
    "\n",
    "max_score = 0\n",
    "\n",
    "for i in range(0, 40):\n",
    "    \n",
    "    print('\\nEpoch: {}'.format(i))\n",
    "    train_logs = train_epoch.run(train_loader)\n",
    "    valid_logs = valid_epoch.run(validation_loader)\n",
    "    \n",
    "    # do something (save model, change lr, etc.)\n",
    "    if max_score < valid_logs['iou_score']:\n",
    "        max_score = valid_logs['iou_score']\n",
    "        torch.save(model, './best_model_DH.pth')\n",
    "        print('Model saved!')\n",
    "        \n",
    "    if i == 25:\n",
    "        optimizer.param_groups[0]['lr'] = 1e-5\n",
    "        print('Decrease decoder learning rate to 1e-5!')"
   ]
  },
  {
   "cell_type": "code",
   "execution_count": 0,
   "metadata": {
    "colab": {
     "base_uri": "https://localhost:8080/",
     "height": 34
    },
    "colab_type": "code",
    "id": "-WOBQNBXX_r6",
    "outputId": "75f58f1c-6021-45ad-dcc0-12de751f9d9a"
   },
   "outputs": [
    {
     "name": "stdout",
     "output_type": "stream",
     "text": [
      "ERROR! Session/line number was not unique in database. History logging moved to new session 61\n"
     ]
    }
   ],
   "source": [
    "# load best saved checkpoint\n",
    "best_model = torch.load('./best_model.pth')"
   ]
  },
  {
   "cell_type": "code",
   "execution_count": 0,
   "metadata": {
    "colab": {},
    "colab_type": "code",
    "id": "IgYBtLlN0Ztc"
   },
   "outputs": [],
   "source": []
  }
 ],
 "metadata": {
  "accelerator": "GPU",
  "colab": {
   "name": "Transfer Learning for Semantic Segmentation.ipynb",
   "provenance": []
  },
  "kernelspec": {
   "display_name": "Python 3",
   "language": "python",
   "name": "python3"
  },
  "language_info": {
   "codemirror_mode": {
    "name": "ipython",
    "version": 3
   },
   "file_extension": ".py",
   "mimetype": "text/x-python",
   "name": "python",
   "nbconvert_exporter": "python",
   "pygments_lexer": "ipython3",
   "version": "3.7.2"
  }
 },
 "nbformat": 4,
 "nbformat_minor": 1
}
